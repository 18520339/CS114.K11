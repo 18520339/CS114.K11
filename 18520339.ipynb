{
 "cells": [
  {
   "cell_type": "markdown",
   "metadata": {
    "colab_type": "text",
    "id": "ZHkP2_rjFzL_"
   },
   "source": [
    "# Part 0: Bài toán cần giải ?"
   ]
  },
  {
   "cell_type": "markdown",
   "metadata": {
    "colab_type": "text",
    "id": "KRHFXwkJStQV"
   },
   "source": [
    "**Phân tích review của khách hàng về 1 sản phẩm trên Amazon có tốt hay không**\n",
    "\n",
    "*Dữ liệu sử dụng:* [Các review về dụng cụ bổ trợ cho các dòng Ipad](https://www.amazon.com/Screen-Protector-SPARIN-Tempered-Glass/product-reviews/B013JZCAZK/ref=cm_cr_arp_d_viewopt_sr?ie=UTF8&reviewerType=all_reviews&pageNumber=1&filterByStar=one_star)\n",
    "\n",
    "**Thông tin các thuộc tính:**\n",
    "- **Input**:\n",
    "    + web-scraper-order\n",
    "    + author: tên khách hàng\n",
    "    + title: ý chính của review\n",
    "    + content: nội dung review\n",
    "- **Output**:\n",
    "    + positively_rated: tốt hay không\n",
    "\n"
   ]
  },
  {
   "cell_type": "markdown",
   "metadata": {
    "colab_type": "text",
    "id": "cdeDkGS-EEdZ"
   },
   "source": [
    "# Part 1: Lấy dữ liệu"
   ]
  },
  {
   "cell_type": "code",
   "execution_count": 1,
   "metadata": {
    "colab": {
     "base_uri": "https://localhost:8080/",
     "height": 34
    },
    "colab_type": "code",
    "id": "QC9WcWAdDepr",
    "outputId": "e4afa15b-e3f4-42f2-9e08-35b5dc04dca4"
   },
   "outputs": [],
   "source": [
    "import numpy as np\n",
    "import pandas as pd\n",
    "import matplotlib.pyplot as plt"
   ]
  },
  {
   "cell_type": "code",
   "execution_count": 2,
   "metadata": {
    "colab": {
     "base_uri": "https://localhost:8080/",
     "height": 193
    },
    "colab_type": "code",
    "id": "v-KoENIfJlzA",
    "outputId": "4e99eca9-34de-40f5-e988-22ba417736f8"
   },
   "outputs": [
    {
     "name": "stdout",
     "output_type": "stream",
     "text": [
      "<class 'pandas.core.frame.DataFrame'>\n",
      "RangeIndex: 5001 entries, 0 to 5000\n",
      "Data columns (total 5 columns):\n",
      "web-scraper-order    5001 non-null object\n",
      "author               4999 non-null object\n",
      "title                5000 non-null object\n",
      "content              5000 non-null object\n",
      "positively_rated     5000 non-null float64\n",
      "dtypes: float64(1), object(4)\n",
      "memory usage: 195.5+ KB\n"
     ]
    }
   ],
   "source": [
    "data = pd.read_excel('Amazon_reviews_after.xlsx')\n",
    "data.info()"
   ]
  },
  {
   "cell_type": "code",
   "execution_count": 3,
   "metadata": {
    "colab": {
     "base_uri": "https://localhost:8080/",
     "height": 195
    },
    "colab_type": "code",
    "id": "qHaxFdkkMOfQ",
    "outputId": "fb62f817-f246-475a-a6cc-9c5e30461c94",
    "scrolled": true
   },
   "outputs": [
    {
     "data": {
      "text/html": [
       "<div>\n",
       "<style scoped>\n",
       "    .dataframe tbody tr th:only-of-type {\n",
       "        vertical-align: middle;\n",
       "    }\n",
       "\n",
       "    .dataframe tbody tr th {\n",
       "        vertical-align: top;\n",
       "    }\n",
       "\n",
       "    .dataframe thead th {\n",
       "        text-align: right;\n",
       "    }\n",
       "</style>\n",
       "<table border=\"1\" class=\"dataframe\">\n",
       "  <thead>\n",
       "    <tr style=\"text-align: right;\">\n",
       "      <th></th>\n",
       "      <th>web-scraper-order</th>\n",
       "      <th>author</th>\n",
       "      <th>title</th>\n",
       "      <th>content</th>\n",
       "      <th>positively_rated</th>\n",
       "    </tr>\n",
       "  </thead>\n",
       "  <tbody>\n",
       "    <tr>\n",
       "      <th>0</th>\n",
       "      <td>1578435708-8343</td>\n",
       "      <td>Polly</td>\n",
       "      <td>Like</td>\n",
       "      <td>So far so good</td>\n",
       "      <td>1.0</td>\n",
       "    </tr>\n",
       "    <tr>\n",
       "      <th>1</th>\n",
       "      <td>1578435601-7934</td>\n",
       "      <td>Amazon Customer</td>\n",
       "      <td>Fine</td>\n",
       "      <td>When a cover is added to it it can make the sc...</td>\n",
       "      <td>1.0</td>\n",
       "    </tr>\n",
       "    <tr>\n",
       "      <th>2</th>\n",
       "      <td>1578435221-6562</td>\n",
       "      <td>B. Peden</td>\n",
       "      <td>Perfect for iPad</td>\n",
       "      <td>No issues installing. Works great!</td>\n",
       "      <td>1.0</td>\n",
       "    </tr>\n",
       "    <tr>\n",
       "      <th>3</th>\n",
       "      <td>1578435279-6781</td>\n",
       "      <td>Jason McMurry</td>\n",
       "      <td>Received and installed the product yesterday. ...</td>\n",
       "      <td>Received and installed the product yesterday. ...</td>\n",
       "      <td>1.0</td>\n",
       "    </tr>\n",
       "    <tr>\n",
       "      <th>4</th>\n",
       "      <td>1578435305-6876</td>\n",
       "      <td>Amazon Customer</td>\n",
       "      <td>Great customer service</td>\n",
       "      <td>I received the product and it Did not work. Pu...</td>\n",
       "      <td>1.0</td>\n",
       "    </tr>\n",
       "  </tbody>\n",
       "</table>\n",
       "</div>"
      ],
      "text/plain": [
       "  web-scraper-order           author  \\\n",
       "0   1578435708-8343            Polly   \n",
       "1   1578435601-7934  Amazon Customer   \n",
       "2   1578435221-6562         B. Peden   \n",
       "3   1578435279-6781    Jason McMurry   \n",
       "4   1578435305-6876  Amazon Customer   \n",
       "\n",
       "                                               title  \\\n",
       "0                                               Like   \n",
       "1                                               Fine   \n",
       "2                                   Perfect for iPad   \n",
       "3  Received and installed the product yesterday. ...   \n",
       "4                             Great customer service   \n",
       "\n",
       "                                             content  positively_rated  \n",
       "0                                     So far so good               1.0  \n",
       "1  When a cover is added to it it can make the sc...               1.0  \n",
       "2                 No issues installing. Works great!               1.0  \n",
       "3  Received and installed the product yesterday. ...               1.0  \n",
       "4  I received the product and it Did not work. Pu...               1.0  "
      ]
     },
     "execution_count": 3,
     "metadata": {},
     "output_type": "execute_result"
    }
   ],
   "source": [
    "data.head()"
   ]
  },
  {
   "cell_type": "markdown",
   "metadata": {
    "colab_type": "text",
    "id": "GlMbrsLrEbth"
   },
   "source": [
    "# Part 2: Tìền xử lý dữ liệu"
   ]
  },
  {
   "cell_type": "markdown",
   "metadata": {},
   "source": [
    "## Tìm  kiếm và xử lý bất thường (thiếu dữ liệu, trùng lắp, outliers, ...)"
   ]
  },
  {
   "cell_type": "code",
   "execution_count": 4,
   "metadata": {},
   "outputs": [
    {
     "name": "stdout",
     "output_type": "stream",
     "text": [
      "<class 'pandas.core.frame.DataFrame'>\n",
      "Int64Index: 4999 entries, 0 to 5000\n",
      "Data columns (total 5 columns):\n",
      "web-scraper-order    4999 non-null object\n",
      "author               4999 non-null object\n",
      "title                4999 non-null object\n",
      "content              4999 non-null object\n",
      "positively_rated     4999 non-null float64\n",
      "dtypes: float64(1), object(4)\n",
      "memory usage: 234.3+ KB\n"
     ]
    }
   ],
   "source": [
    "data = data.dropna(axis = 0)\n",
    "data.info()"
   ]
  },
  {
   "cell_type": "markdown",
   "metadata": {
    "colab_type": "text",
    "id": "fUWQvIisy4RT"
   },
   "source": [
    "## Chuẩn hóa dữ liệu"
   ]
  },
  {
   "cell_type": "code",
   "execution_count": 5,
   "metadata": {
    "scrolled": true
   },
   "outputs": [
    {
     "data": {
      "text/html": [
       "<div>\n",
       "<style scoped>\n",
       "    .dataframe tbody tr th:only-of-type {\n",
       "        vertical-align: middle;\n",
       "    }\n",
       "\n",
       "    .dataframe tbody tr th {\n",
       "        vertical-align: top;\n",
       "    }\n",
       "\n",
       "    .dataframe thead th {\n",
       "        text-align: right;\n",
       "    }\n",
       "</style>\n",
       "<table border=\"1\" class=\"dataframe\">\n",
       "  <thead>\n",
       "    <tr style=\"text-align: right;\">\n",
       "      <th></th>\n",
       "      <th>web-scraper-order</th>\n",
       "      <th>author</th>\n",
       "      <th>title</th>\n",
       "      <th>content</th>\n",
       "      <th>positively_rated</th>\n",
       "    </tr>\n",
       "  </thead>\n",
       "  <tbody>\n",
       "    <tr>\n",
       "      <th>0</th>\n",
       "      <td>1578435708-8343</td>\n",
       "      <td>Polly</td>\n",
       "      <td>Like</td>\n",
       "      <td>So far so good</td>\n",
       "      <td>1.0</td>\n",
       "    </tr>\n",
       "    <tr>\n",
       "      <th>1</th>\n",
       "      <td>1578435601-7934</td>\n",
       "      <td>Amazon Customer</td>\n",
       "      <td>Fine</td>\n",
       "      <td>When a cover is added to it it can make the sc...</td>\n",
       "      <td>1.0</td>\n",
       "    </tr>\n",
       "    <tr>\n",
       "      <th>2</th>\n",
       "      <td>1578435221-6562</td>\n",
       "      <td>B. Peden</td>\n",
       "      <td>Perfect for iPad</td>\n",
       "      <td>No issues installing  Works great</td>\n",
       "      <td>1.0</td>\n",
       "    </tr>\n",
       "    <tr>\n",
       "      <th>3</th>\n",
       "      <td>1578435279-6781</td>\n",
       "      <td>Jason McMurry</td>\n",
       "      <td>Received and installed the product yesterday. ...</td>\n",
       "      <td>Received and installed the product yesterday  ...</td>\n",
       "      <td>1.0</td>\n",
       "    </tr>\n",
       "    <tr>\n",
       "      <th>4</th>\n",
       "      <td>1578435305-6876</td>\n",
       "      <td>Amazon Customer</td>\n",
       "      <td>Great customer service</td>\n",
       "      <td>I received the product and it Did not work  Pu...</td>\n",
       "      <td>1.0</td>\n",
       "    </tr>\n",
       "  </tbody>\n",
       "</table>\n",
       "</div>"
      ],
      "text/plain": [
       "  web-scraper-order           author  \\\n",
       "0   1578435708-8343            Polly   \n",
       "1   1578435601-7934  Amazon Customer   \n",
       "2   1578435221-6562         B. Peden   \n",
       "3   1578435279-6781    Jason McMurry   \n",
       "4   1578435305-6876  Amazon Customer   \n",
       "\n",
       "                                               title  \\\n",
       "0                                               Like   \n",
       "1                                               Fine   \n",
       "2                                   Perfect for iPad   \n",
       "3  Received and installed the product yesterday. ...   \n",
       "4                             Great customer service   \n",
       "\n",
       "                                             content  positively_rated  \n",
       "0                                     So far so good               1.0  \n",
       "1  When a cover is added to it it can make the sc...               1.0  \n",
       "2                 No issues installing  Works great                1.0  \n",
       "3  Received and installed the product yesterday  ...               1.0  \n",
       "4  I received the product and it Did not work  Pu...               1.0  "
      ]
     },
     "execution_count": 5,
     "metadata": {},
     "output_type": "execute_result"
    }
   ],
   "source": [
    "# Loại bỏ các ký tự không mong muốn\n",
    "data['content'] = data['content'].str.replace('[^a-zA-Z]', ' ')\n",
    "data.head()"
   ]
  },
  {
   "cell_type": "code",
   "execution_count": 6,
   "metadata": {},
   "outputs": [
    {
     "data": {
      "text/html": [
       "<div>\n",
       "<style scoped>\n",
       "    .dataframe tbody tr th:only-of-type {\n",
       "        vertical-align: middle;\n",
       "    }\n",
       "\n",
       "    .dataframe tbody tr th {\n",
       "        vertical-align: top;\n",
       "    }\n",
       "\n",
       "    .dataframe thead th {\n",
       "        text-align: right;\n",
       "    }\n",
       "</style>\n",
       "<table border=\"1\" class=\"dataframe\">\n",
       "  <thead>\n",
       "    <tr style=\"text-align: right;\">\n",
       "      <th></th>\n",
       "      <th>web-scraper-order</th>\n",
       "      <th>author</th>\n",
       "      <th>title</th>\n",
       "      <th>content</th>\n",
       "      <th>positively_rated</th>\n",
       "    </tr>\n",
       "  </thead>\n",
       "  <tbody>\n",
       "    <tr>\n",
       "      <th>0</th>\n",
       "      <td>1578435708-8343</td>\n",
       "      <td>Polly</td>\n",
       "      <td>Like</td>\n",
       "      <td>so far so good</td>\n",
       "      <td>1.0</td>\n",
       "    </tr>\n",
       "    <tr>\n",
       "      <th>1</th>\n",
       "      <td>1578435601-7934</td>\n",
       "      <td>Amazon Customer</td>\n",
       "      <td>Fine</td>\n",
       "      <td>when a cover is added to it it can make the sc...</td>\n",
       "      <td>1.0</td>\n",
       "    </tr>\n",
       "    <tr>\n",
       "      <th>2</th>\n",
       "      <td>1578435221-6562</td>\n",
       "      <td>B. Peden</td>\n",
       "      <td>Perfect for iPad</td>\n",
       "      <td>no issues installing  works great</td>\n",
       "      <td>1.0</td>\n",
       "    </tr>\n",
       "    <tr>\n",
       "      <th>3</th>\n",
       "      <td>1578435279-6781</td>\n",
       "      <td>Jason McMurry</td>\n",
       "      <td>Received and installed the product yesterday. ...</td>\n",
       "      <td>received and installed the product yesterday  ...</td>\n",
       "      <td>1.0</td>\n",
       "    </tr>\n",
       "    <tr>\n",
       "      <th>4</th>\n",
       "      <td>1578435305-6876</td>\n",
       "      <td>Amazon Customer</td>\n",
       "      <td>Great customer service</td>\n",
       "      <td>i received the product and it did not work  pu...</td>\n",
       "      <td>1.0</td>\n",
       "    </tr>\n",
       "  </tbody>\n",
       "</table>\n",
       "</div>"
      ],
      "text/plain": [
       "  web-scraper-order           author  \\\n",
       "0   1578435708-8343            Polly   \n",
       "1   1578435601-7934  Amazon Customer   \n",
       "2   1578435221-6562         B. Peden   \n",
       "3   1578435279-6781    Jason McMurry   \n",
       "4   1578435305-6876  Amazon Customer   \n",
       "\n",
       "                                               title  \\\n",
       "0                                               Like   \n",
       "1                                               Fine   \n",
       "2                                   Perfect for iPad   \n",
       "3  Received and installed the product yesterday. ...   \n",
       "4                             Great customer service   \n",
       "\n",
       "                                             content  positively_rated  \n",
       "0                                     so far so good               1.0  \n",
       "1  when a cover is added to it it can make the sc...               1.0  \n",
       "2                 no issues installing  works great                1.0  \n",
       "3  received and installed the product yesterday  ...               1.0  \n",
       "4  i received the product and it did not work  pu...               1.0  "
      ]
     },
     "execution_count": 6,
     "metadata": {},
     "output_type": "execute_result"
    }
   ],
   "source": [
    "# Chuẩn hóa lại chữ\n",
    "data['content'] = data['content'].str.lower()\n",
    "data.head()"
   ]
  },
  {
   "cell_type": "code",
   "execution_count": 7,
   "metadata": {},
   "outputs": [
    {
     "data": {
      "text/html": [
       "<div>\n",
       "<style scoped>\n",
       "    .dataframe tbody tr th:only-of-type {\n",
       "        vertical-align: middle;\n",
       "    }\n",
       "\n",
       "    .dataframe tbody tr th {\n",
       "        vertical-align: top;\n",
       "    }\n",
       "\n",
       "    .dataframe thead th {\n",
       "        text-align: right;\n",
       "    }\n",
       "</style>\n",
       "<table border=\"1\" class=\"dataframe\">\n",
       "  <thead>\n",
       "    <tr style=\"text-align: right;\">\n",
       "      <th></th>\n",
       "      <th>web-scraper-order</th>\n",
       "      <th>author</th>\n",
       "      <th>title</th>\n",
       "      <th>content</th>\n",
       "      <th>positively_rated</th>\n",
       "      <th>char_count</th>\n",
       "      <th>word_count</th>\n",
       "      <th>avg_word_length</th>\n",
       "    </tr>\n",
       "  </thead>\n",
       "  <tbody>\n",
       "    <tr>\n",
       "      <th>0</th>\n",
       "      <td>1578435708-8343</td>\n",
       "      <td>Polly</td>\n",
       "      <td>Like</td>\n",
       "      <td>so far so good</td>\n",
       "      <td>1.0</td>\n",
       "      <td>14.0</td>\n",
       "      <td>4.0</td>\n",
       "      <td>3.500000</td>\n",
       "    </tr>\n",
       "    <tr>\n",
       "      <th>1</th>\n",
       "      <td>1578435601-7934</td>\n",
       "      <td>Amazon Customer</td>\n",
       "      <td>Fine</td>\n",
       "      <td>when a cover is added to it it can make the sc...</td>\n",
       "      <td>1.0</td>\n",
       "      <td>68.0</td>\n",
       "      <td>15.0</td>\n",
       "      <td>4.533333</td>\n",
       "    </tr>\n",
       "    <tr>\n",
       "      <th>2</th>\n",
       "      <td>1578435221-6562</td>\n",
       "      <td>B. Peden</td>\n",
       "      <td>Perfect for iPad</td>\n",
       "      <td>no issues installing  works great</td>\n",
       "      <td>1.0</td>\n",
       "      <td>34.0</td>\n",
       "      <td>5.0</td>\n",
       "      <td>6.800000</td>\n",
       "    </tr>\n",
       "    <tr>\n",
       "      <th>3</th>\n",
       "      <td>1578435279-6781</td>\n",
       "      <td>Jason McMurry</td>\n",
       "      <td>Received and installed the product yesterday. ...</td>\n",
       "      <td>received and installed the product yesterday  ...</td>\n",
       "      <td>1.0</td>\n",
       "      <td>312.0</td>\n",
       "      <td>51.0</td>\n",
       "      <td>6.117647</td>\n",
       "    </tr>\n",
       "    <tr>\n",
       "      <th>4</th>\n",
       "      <td>1578435305-6876</td>\n",
       "      <td>Amazon Customer</td>\n",
       "      <td>Great customer service</td>\n",
       "      <td>i received the product and it did not work  pu...</td>\n",
       "      <td>1.0</td>\n",
       "      <td>210.0</td>\n",
       "      <td>38.0</td>\n",
       "      <td>5.526316</td>\n",
       "    </tr>\n",
       "  </tbody>\n",
       "</table>\n",
       "</div>"
      ],
      "text/plain": [
       "  web-scraper-order           author  \\\n",
       "0   1578435708-8343            Polly   \n",
       "1   1578435601-7934  Amazon Customer   \n",
       "2   1578435221-6562         B. Peden   \n",
       "3   1578435279-6781    Jason McMurry   \n",
       "4   1578435305-6876  Amazon Customer   \n",
       "\n",
       "                                               title  \\\n",
       "0                                               Like   \n",
       "1                                               Fine   \n",
       "2                                   Perfect for iPad   \n",
       "3  Received and installed the product yesterday. ...   \n",
       "4                             Great customer service   \n",
       "\n",
       "                                             content  positively_rated  \\\n",
       "0                                     so far so good               1.0   \n",
       "1  when a cover is added to it it can make the sc...               1.0   \n",
       "2                 no issues installing  works great                1.0   \n",
       "3  received and installed the product yesterday  ...               1.0   \n",
       "4  i received the product and it did not work  pu...               1.0   \n",
       "\n",
       "   char_count  word_count  avg_word_length  \n",
       "0        14.0         4.0         3.500000  \n",
       "1        68.0        15.0         4.533333  \n",
       "2        34.0         5.0         6.800000  \n",
       "3       312.0        51.0         6.117647  \n",
       "4       210.0        38.0         5.526316  "
      ]
     },
     "execution_count": 7,
     "metadata": {},
     "output_type": "execute_result"
    }
   ],
   "source": [
    "data['char_count'] = data['content'].str.len()\n",
    "data['word_count'] = data['content'].str.split().str.len()\n",
    "data['avg_word_length'] = data['char_count'] / data['word_count']\n",
    "data.head()"
   ]
  },
  {
   "cell_type": "markdown",
   "metadata": {
    "colab_type": "text",
    "id": "caKTTMooQVpF"
   },
   "source": [
    "## Trực quan hóa để có thông tin chi tiết"
   ]
  },
  {
   "cell_type": "code",
   "execution_count": 8,
   "metadata": {
    "scrolled": true
   },
   "outputs": [
    {
     "data": {
      "text/plain": [
       "<matplotlib.axes._subplots.AxesSubplot at 0x1aa67bd00c8>"
      ]
     },
     "execution_count": 8,
     "metadata": {},
     "output_type": "execute_result"
    },
    {
     "data": {
      "image/png": "[encoded data removed]",
      "text/plain": [
       "<Figure size 432x288 with 1 Axes>"
      ]
     },
     "metadata": {
      "needs_background": "light"
     },
     "output_type": "display_data"
    }
   ],
   "source": [
    "data['positively_rated'].plot.hist()"
   ]
  },
  {
   "cell_type": "code",
   "execution_count": 9,
   "metadata": {},
   "outputs": [
    {
     "data": {
      "text/plain": [
       "1.0    4135\n",
       "0.0     864\n",
       "Name: positively_rated, dtype: int64"
      ]
     },
     "execution_count": 9,
     "metadata": {},
     "output_type": "execute_result"
    }
   ],
   "source": [
    "data['positively_rated'].value_counts()"
   ]
  },
  {
   "cell_type": "markdown",
   "metadata": {},
   "source": [
    "## Xử lý dữ liệu mất cân bằng"
   ]
  },
  {
   "cell_type": "code",
   "execution_count": 10,
   "metadata": {},
   "outputs": [
    {
     "data": {
      "text/plain": [
       "(864, 8)"
      ]
     },
     "metadata": {},
     "output_type": "display_data"
    },
    {
     "data": {
      "text/plain": [
       "(4135, 8)"
      ]
     },
     "metadata": {},
     "output_type": "display_data"
    }
   ],
   "source": [
    "# Vì dữ liệu class 1 tương đối nhiều => do đó ta sẽ áp dụng Undersampling để giảm số mẫu của nhóm\n",
    "data_0 = data[data['positively_rated'] == 0]\n",
    "data_1 = data[data['positively_rated'] == 1]\n",
    "display(data_0.shape, data_1.shape)"
   ]
  },
  {
   "cell_type": "code",
   "execution_count": 11,
   "metadata": {},
   "outputs": [
    {
     "data": {
      "text/plain": [
       "(864, 8)"
      ]
     },
     "metadata": {},
     "output_type": "display_data"
    },
    {
     "data": {
      "text/plain": [
       "(864, 8)"
      ]
     },
     "metadata": {},
     "output_type": "display_data"
    }
   ],
   "source": [
    "from sklearn.utils import resample\n",
    "data_1_resample = resample(data_1, replace=False, n_samples=data_0.shape[0], random_state=27)\n",
    "display(data_0.shape, data_1_resample.shape)"
   ]
  },
  {
   "cell_type": "code",
   "execution_count": 12,
   "metadata": {},
   "outputs": [
    {
     "data": {
      "text/html": [
       "<div>\n",
       "<style scoped>\n",
       "    .dataframe tbody tr th:only-of-type {\n",
       "        vertical-align: middle;\n",
       "    }\n",
       "\n",
       "    .dataframe tbody tr th {\n",
       "        vertical-align: top;\n",
       "    }\n",
       "\n",
       "    .dataframe thead th {\n",
       "        text-align: right;\n",
       "    }\n",
       "</style>\n",
       "<table border=\"1\" class=\"dataframe\">\n",
       "  <thead>\n",
       "    <tr style=\"text-align: right;\">\n",
       "      <th></th>\n",
       "      <th>web-scraper-order</th>\n",
       "      <th>author</th>\n",
       "      <th>title</th>\n",
       "      <th>content</th>\n",
       "      <th>positively_rated</th>\n",
       "      <th>char_count</th>\n",
       "      <th>word_count</th>\n",
       "      <th>avg_word_length</th>\n",
       "    </tr>\n",
       "  </thead>\n",
       "  <tbody>\n",
       "    <tr>\n",
       "      <th>8</th>\n",
       "      <td>1578435063-5979</td>\n",
       "      <td>Sarah Hamilton</td>\n",
       "      <td>cheaply made</td>\n",
       "      <td>seemed great at first  was easy to install but...</td>\n",
       "      <td>0.0</td>\n",
       "      <td>154.0</td>\n",
       "      <td>29.0</td>\n",
       "      <td>5.310345</td>\n",
       "    </tr>\n",
       "    <tr>\n",
       "      <th>10</th>\n",
       "      <td>1578435386-7159</td>\n",
       "      <td>Maddie</td>\n",
       "      <td>It came broken</td>\n",
       "      <td>i liked it came in quickly but it was broken w...</td>\n",
       "      <td>0.0</td>\n",
       "      <td>62.0</td>\n",
       "      <td>14.0</td>\n",
       "      <td>4.428571</td>\n",
       "    </tr>\n",
       "    <tr>\n",
       "      <th>19</th>\n",
       "      <td>1578435334-6978</td>\n",
       "      <td>Nancy Hester</td>\n",
       "      <td>NOTHING HAPPENS TO IT!!! Is your screen that c...</td>\n",
       "      <td>my ipad fell yesterday and nothing happened to...</td>\n",
       "      <td>0.0</td>\n",
       "      <td>94.0</td>\n",
       "      <td>16.0</td>\n",
       "      <td>5.875000</td>\n",
       "    </tr>\n",
       "    <tr>\n",
       "      <th>21</th>\n",
       "      <td>1578435456-7400</td>\n",
       "      <td>Rabia</td>\n",
       "      <td>Bad!</td>\n",
       "      <td>broke within a week  it has so many cracks alr...</td>\n",
       "      <td>0.0</td>\n",
       "      <td>132.0</td>\n",
       "      <td>23.0</td>\n",
       "      <td>5.739130</td>\n",
       "    </tr>\n",
       "    <tr>\n",
       "      <th>22</th>\n",
       "      <td>1578435014-5800</td>\n",
       "      <td>Abearinpa</td>\n",
       "      <td>good idea good buy no cases allowed</td>\n",
       "      <td>best part is the worse part in that this is a ...</td>\n",
       "      <td>0.0</td>\n",
       "      <td>262.0</td>\n",
       "      <td>56.0</td>\n",
       "      <td>4.678571</td>\n",
       "    </tr>\n",
       "  </tbody>\n",
       "</table>\n",
       "</div>"
      ],
      "text/plain": [
       "   web-scraper-order          author  \\\n",
       "8    1578435063-5979  Sarah Hamilton   \n",
       "10   1578435386-7159          Maddie   \n",
       "19   1578435334-6978    Nancy Hester   \n",
       "21   1578435456-7400           Rabia   \n",
       "22   1578435014-5800       Abearinpa   \n",
       "\n",
       "                                                title  \\\n",
       "8                                        cheaply made   \n",
       "10                                     It came broken   \n",
       "19  NOTHING HAPPENS TO IT!!! Is your screen that c...   \n",
       "21                                               Bad!   \n",
       "22                good idea good buy no cases allowed   \n",
       "\n",
       "                                              content  positively_rated  \\\n",
       "8   seemed great at first  was easy to install but...               0.0   \n",
       "10  i liked it came in quickly but it was broken w...               0.0   \n",
       "19  my ipad fell yesterday and nothing happened to...               0.0   \n",
       "21  broke within a week  it has so many cracks alr...               0.0   \n",
       "22  best part is the worse part in that this is a ...               0.0   \n",
       "\n",
       "    char_count  word_count  avg_word_length  \n",
       "8        154.0        29.0         5.310345  \n",
       "10        62.0        14.0         4.428571  \n",
       "19        94.0        16.0         5.875000  \n",
       "21       132.0        23.0         5.739130  \n",
       "22       262.0        56.0         4.678571  "
      ]
     },
     "execution_count": 12,
     "metadata": {},
     "output_type": "execute_result"
    }
   ],
   "source": [
    "data = pd.concat([data_0, data_1_resample])\n",
    "data.head()"
   ]
  },
  {
   "cell_type": "markdown",
   "metadata": {
    "colab_type": "text",
    "id": "rzL8ka_rEnSJ"
   },
   "source": [
    "# Part 3: Thiết lập model phù hợp"
   ]
  },
  {
   "cell_type": "markdown",
   "metadata": {
    "colab_type": "text",
    "id": "d9eGP4bnCcia"
   },
   "source": [
    "## Chuẩn bị dữ liệu cho model"
   ]
  },
  {
   "cell_type": "code",
   "execution_count": 13,
   "metadata": {
    "colab": {
     "base_uri": "https://localhost:8080/",
     "height": 195
    },
    "colab_type": "code",
    "id": "i-CkrWyqDt6v",
    "outputId": "6a21b7db-85fd-4251-8e8b-e419d958327b"
   },
   "outputs": [
    {
     "data": {
      "text/html": [
       "<div>\n",
       "<style scoped>\n",
       "    .dataframe tbody tr th:only-of-type {\n",
       "        vertical-align: middle;\n",
       "    }\n",
       "\n",
       "    .dataframe tbody tr th {\n",
       "        vertical-align: top;\n",
       "    }\n",
       "\n",
       "    .dataframe thead th {\n",
       "        text-align: right;\n",
       "    }\n",
       "</style>\n",
       "<table border=\"1\" class=\"dataframe\">\n",
       "  <thead>\n",
       "    <tr style=\"text-align: right;\">\n",
       "      <th></th>\n",
       "      <th>content</th>\n",
       "    </tr>\n",
       "  </thead>\n",
       "  <tbody>\n",
       "    <tr>\n",
       "      <th>8</th>\n",
       "      <td>seemed great at first  was easy to install but...</td>\n",
       "    </tr>\n",
       "    <tr>\n",
       "      <th>10</th>\n",
       "      <td>i liked it came in quickly but it was broken w...</td>\n",
       "    </tr>\n",
       "    <tr>\n",
       "      <th>19</th>\n",
       "      <td>my ipad fell yesterday and nothing happened to...</td>\n",
       "    </tr>\n",
       "    <tr>\n",
       "      <th>21</th>\n",
       "      <td>broke within a week  it has so many cracks alr...</td>\n",
       "    </tr>\n",
       "    <tr>\n",
       "      <th>22</th>\n",
       "      <td>best part is the worse part in that this is a ...</td>\n",
       "    </tr>\n",
       "  </tbody>\n",
       "</table>\n",
       "</div>"
      ],
      "text/plain": [
       "                                              content\n",
       "8   seemed great at first  was easy to install but...\n",
       "10  i liked it came in quickly but it was broken w...\n",
       "19  my ipad fell yesterday and nothing happened to...\n",
       "21  broke within a week  it has so many cracks alr...\n",
       "22  best part is the worse part in that this is a ..."
      ]
     },
     "execution_count": 13,
     "metadata": {},
     "output_type": "execute_result"
    }
   ],
   "source": [
    "features = data[['content']] # làm với dữ liệu văn bản => để kiểu series\n",
    "features.head()"
   ]
  },
  {
   "cell_type": "code",
   "execution_count": 14,
   "metadata": {
    "scrolled": true
   },
   "outputs": [
    {
     "data": {
      "text/html": [
       "<div>\n",
       "<style scoped>\n",
       "    .dataframe tbody tr th:only-of-type {\n",
       "        vertical-align: middle;\n",
       "    }\n",
       "\n",
       "    .dataframe tbody tr th {\n",
       "        vertical-align: top;\n",
       "    }\n",
       "\n",
       "    .dataframe thead th {\n",
       "        text-align: right;\n",
       "    }\n",
       "</style>\n",
       "<table border=\"1\" class=\"dataframe\">\n",
       "  <thead>\n",
       "    <tr style=\"text-align: right;\">\n",
       "      <th></th>\n",
       "      <th>positively_rated</th>\n",
       "    </tr>\n",
       "  </thead>\n",
       "  <tbody>\n",
       "    <tr>\n",
       "      <th>8</th>\n",
       "      <td>0.0</td>\n",
       "    </tr>\n",
       "    <tr>\n",
       "      <th>10</th>\n",
       "      <td>0.0</td>\n",
       "    </tr>\n",
       "    <tr>\n",
       "      <th>19</th>\n",
       "      <td>0.0</td>\n",
       "    </tr>\n",
       "    <tr>\n",
       "      <th>21</th>\n",
       "      <td>0.0</td>\n",
       "    </tr>\n",
       "    <tr>\n",
       "      <th>22</th>\n",
       "      <td>0.0</td>\n",
       "    </tr>\n",
       "  </tbody>\n",
       "</table>\n",
       "</div>"
      ],
      "text/plain": [
       "    positively_rated\n",
       "8                0.0\n",
       "10               0.0\n",
       "19               0.0\n",
       "21               0.0\n",
       "22               0.0"
      ]
     },
     "execution_count": 14,
     "metadata": {},
     "output_type": "execute_result"
    }
   ],
   "source": [
    "targets = data[['positively_rated']]\n",
    "targets.head()"
   ]
  },
  {
   "cell_type": "markdown",
   "metadata": {},
   "source": [
    "### Với CountVectorizer"
   ]
  },
  {
   "cell_type": "code",
   "execution_count": 15,
   "metadata": {
    "colab": {
     "base_uri": "https://localhost:8080/",
     "height": 52
    },
    "colab_type": "code",
    "id": "WAYDCfL6i2T2",
    "outputId": "c4bee690-9624-4b25-a163-9b9a430bb408",
    "scrolled": true
   },
   "outputs": [
    {
     "data": {
      "text/plain": [
       "CountVectorizer(analyzer='word', binary=False, decode_error='strict',\n",
       "                dtype=<class 'numpy.int64'>, encoding='utf-8', input='content',\n",
       "                lowercase=True, max_df=1.0, max_features=None, min_df=1,\n",
       "                ngram_range=(1, 1), preprocessor=None, stop_words='english',\n",
       "                strip_accents=None, token_pattern='(?u)\\\\b\\\\w\\\\w+\\\\b',\n",
       "                tokenizer=None, vocabulary=None)"
      ]
     },
     "execution_count": 15,
     "metadata": {},
     "output_type": "execute_result"
    }
   ],
   "source": [
    "from sklearn.feature_extraction.text import CountVectorizer\n",
    "\n",
    "cv = CountVectorizer(stop_words='english')\n",
    "cv.fit(features['content'].values.astype('U'))"
   ]
  },
  {
   "cell_type": "code",
   "execution_count": null,
   "metadata": {},
   "outputs": [],
   "source": [
    "# print(cv.get_feature_names())"
   ]
  },
  {
   "cell_type": "code",
   "execution_count": null,
   "metadata": {},
   "outputs": [],
   "source": [
    "# cv.vocabulary_"
   ]
  },
  {
   "cell_type": "code",
   "execution_count": 18,
   "metadata": {},
   "outputs": [
    {
     "data": {
      "text/plain": [
       "<1728x3718 sparse matrix of type '<class 'numpy.int64'>'\n",
       "\twith 31412 stored elements in Compressed Sparse Row format>"
      ]
     },
     "execution_count": 18,
     "metadata": {},
     "output_type": "execute_result"
    }
   ],
   "source": [
    "bag_of_words_cv = cv.transform(features['content'].values.astype('U'))\n",
    "bag_of_words_cv"
   ]
  },
  {
   "cell_type": "code",
   "execution_count": 19,
   "metadata": {
    "scrolled": true
   },
   "outputs": [
    {
     "data": {
      "text/html": [
       "<div>\n",
       "<style scoped>\n",
       "    .dataframe tbody tr th:only-of-type {\n",
       "        vertical-align: middle;\n",
       "    }\n",
       "\n",
       "    .dataframe tbody tr th {\n",
       "        vertical-align: top;\n",
       "    }\n",
       "\n",
       "    .dataframe thead th {\n",
       "        text-align: right;\n",
       "    }\n",
       "</style>\n",
       "<table border=\"1\" class=\"dataframe\">\n",
       "  <thead>\n",
       "    <tr style=\"text-align: right;\">\n",
       "      <th></th>\n",
       "      <th>CV_ability</th>\n",
       "      <th>CV_able</th>\n",
       "      <th>CV_abrasion</th>\n",
       "      <th>CV_absence</th>\n",
       "      <th>CV_absolute</th>\n",
       "      <th>CV_absolutely</th>\n",
       "      <th>CV_absorb</th>\n",
       "      <th>CV_absorbed</th>\n",
       "      <th>CV_absorber</th>\n",
       "      <th>CV_absurd</th>\n",
       "      <th>...</th>\n",
       "      <th>CV_yep</th>\n",
       "      <th>CV_yes</th>\n",
       "      <th>CV_yesterday</th>\n",
       "      <th>CV_yor</th>\n",
       "      <th>CV_youbreakit</th>\n",
       "      <th>CV_young</th>\n",
       "      <th>CV_youtube</th>\n",
       "      <th>CV_yr</th>\n",
       "      <th>CV_zagg</th>\n",
       "      <th>CV_zero</th>\n",
       "    </tr>\n",
       "  </thead>\n",
       "  <tbody>\n",
       "    <tr>\n",
       "      <th>0</th>\n",
       "      <td>0</td>\n",
       "      <td>0</td>\n",
       "      <td>0</td>\n",
       "      <td>0</td>\n",
       "      <td>0</td>\n",
       "      <td>0</td>\n",
       "      <td>0</td>\n",
       "      <td>0</td>\n",
       "      <td>0</td>\n",
       "      <td>0</td>\n",
       "      <td>...</td>\n",
       "      <td>0</td>\n",
       "      <td>0</td>\n",
       "      <td>0</td>\n",
       "      <td>0</td>\n",
       "      <td>0</td>\n",
       "      <td>0</td>\n",
       "      <td>0</td>\n",
       "      <td>0</td>\n",
       "      <td>0</td>\n",
       "      <td>0</td>\n",
       "    </tr>\n",
       "    <tr>\n",
       "      <th>1</th>\n",
       "      <td>0</td>\n",
       "      <td>0</td>\n",
       "      <td>0</td>\n",
       "      <td>0</td>\n",
       "      <td>0</td>\n",
       "      <td>0</td>\n",
       "      <td>0</td>\n",
       "      <td>0</td>\n",
       "      <td>0</td>\n",
       "      <td>0</td>\n",
       "      <td>...</td>\n",
       "      <td>0</td>\n",
       "      <td>0</td>\n",
       "      <td>0</td>\n",
       "      <td>0</td>\n",
       "      <td>0</td>\n",
       "      <td>0</td>\n",
       "      <td>0</td>\n",
       "      <td>0</td>\n",
       "      <td>0</td>\n",
       "      <td>0</td>\n",
       "    </tr>\n",
       "    <tr>\n",
       "      <th>2</th>\n",
       "      <td>0</td>\n",
       "      <td>0</td>\n",
       "      <td>0</td>\n",
       "      <td>0</td>\n",
       "      <td>0</td>\n",
       "      <td>0</td>\n",
       "      <td>0</td>\n",
       "      <td>0</td>\n",
       "      <td>0</td>\n",
       "      <td>0</td>\n",
       "      <td>...</td>\n",
       "      <td>0</td>\n",
       "      <td>0</td>\n",
       "      <td>1</td>\n",
       "      <td>0</td>\n",
       "      <td>0</td>\n",
       "      <td>0</td>\n",
       "      <td>0</td>\n",
       "      <td>0</td>\n",
       "      <td>0</td>\n",
       "      <td>0</td>\n",
       "    </tr>\n",
       "    <tr>\n",
       "      <th>3</th>\n",
       "      <td>0</td>\n",
       "      <td>0</td>\n",
       "      <td>0</td>\n",
       "      <td>0</td>\n",
       "      <td>0</td>\n",
       "      <td>0</td>\n",
       "      <td>0</td>\n",
       "      <td>0</td>\n",
       "      <td>0</td>\n",
       "      <td>0</td>\n",
       "      <td>...</td>\n",
       "      <td>0</td>\n",
       "      <td>0</td>\n",
       "      <td>0</td>\n",
       "      <td>0</td>\n",
       "      <td>0</td>\n",
       "      <td>0</td>\n",
       "      <td>0</td>\n",
       "      <td>0</td>\n",
       "      <td>0</td>\n",
       "      <td>0</td>\n",
       "    </tr>\n",
       "    <tr>\n",
       "      <th>4</th>\n",
       "      <td>0</td>\n",
       "      <td>0</td>\n",
       "      <td>0</td>\n",
       "      <td>0</td>\n",
       "      <td>0</td>\n",
       "      <td>0</td>\n",
       "      <td>0</td>\n",
       "      <td>0</td>\n",
       "      <td>0</td>\n",
       "      <td>0</td>\n",
       "      <td>...</td>\n",
       "      <td>0</td>\n",
       "      <td>0</td>\n",
       "      <td>0</td>\n",
       "      <td>0</td>\n",
       "      <td>0</td>\n",
       "      <td>0</td>\n",
       "      <td>0</td>\n",
       "      <td>0</td>\n",
       "      <td>0</td>\n",
       "      <td>0</td>\n",
       "    </tr>\n",
       "  </tbody>\n",
       "</table>\n",
       "<p>5 rows × 3718 columns</p>\n",
       "</div>"
      ],
      "text/plain": [
       "   CV_ability  CV_able  CV_abrasion  CV_absence  CV_absolute  CV_absolutely  \\\n",
       "0           0        0            0           0            0              0   \n",
       "1           0        0            0           0            0              0   \n",
       "2           0        0            0           0            0              0   \n",
       "3           0        0            0           0            0              0   \n",
       "4           0        0            0           0            0              0   \n",
       "\n",
       "   CV_absorb  CV_absorbed  CV_absorber  CV_absurd  ...  CV_yep  CV_yes  \\\n",
       "0          0            0            0          0  ...       0       0   \n",
       "1          0            0            0          0  ...       0       0   \n",
       "2          0            0            0          0  ...       0       0   \n",
       "3          0            0            0          0  ...       0       0   \n",
       "4          0            0            0          0  ...       0       0   \n",
       "\n",
       "   CV_yesterday  CV_yor  CV_youbreakit  CV_young  CV_youtube  CV_yr  CV_zagg  \\\n",
       "0             0       0              0         0           0      0        0   \n",
       "1             0       0              0         0           0      0        0   \n",
       "2             1       0              0         0           0      0        0   \n",
       "3             0       0              0         0           0      0        0   \n",
       "4             0       0              0         0           0      0        0   \n",
       "\n",
       "   CV_zero  \n",
       "0        0  \n",
       "1        0  \n",
       "2        0  \n",
       "3        0  \n",
       "4        0  \n",
       "\n",
       "[5 rows x 3718 columns]"
      ]
     },
     "execution_count": 19,
     "metadata": {},
     "output_type": "execute_result"
    }
   ],
   "source": [
    "features_cv = pd.DataFrame(bag_of_words_cv.toarray(), columns=cv.get_feature_names()).add_prefix('CV_')\n",
    "features_cv.head()"
   ]
  },
  {
   "cell_type": "markdown",
   "metadata": {},
   "source": [
    "### Với TF-IDF"
   ]
  },
  {
   "cell_type": "code",
   "execution_count": 20,
   "metadata": {},
   "outputs": [
    {
     "data": {
      "text/plain": [
       "TfidfVectorizer(analyzer='word', binary=False, decode_error='strict',\n",
       "                dtype=<class 'numpy.float64'>, encoding='utf-8',\n",
       "                input='content', lowercase=True, max_df=1.0, max_features=None,\n",
       "                min_df=1, ngram_range=(1, 1), norm='l2', preprocessor=None,\n",
       "                smooth_idf=True, stop_words='english', strip_accents=None,\n",
       "                sublinear_tf=False, token_pattern='(?u)\\\\b\\\\w\\\\w+\\\\b',\n",
       "                tokenizer=None, use_idf=True, vocabulary=None)"
      ]
     },
     "execution_count": 20,
     "metadata": {},
     "output_type": "execute_result"
    }
   ],
   "source": [
    "from sklearn.feature_extraction.text import TfidfVectorizer\n",
    "\n",
    "tv = TfidfVectorizer(stop_words='english')\n",
    "tv.fit(features['content'].values.astype('U'))"
   ]
  },
  {
   "cell_type": "code",
   "execution_count": null,
   "metadata": {},
   "outputs": [],
   "source": [
    "# print(tv.get_feature_names())"
   ]
  },
  {
   "cell_type": "code",
   "execution_count": null,
   "metadata": {},
   "outputs": [],
   "source": [
    "# tv.vocabulary_"
   ]
  },
  {
   "cell_type": "code",
   "execution_count": 23,
   "metadata": {},
   "outputs": [
    {
     "data": {
      "text/plain": [
       "<1728x3718 sparse matrix of type '<class 'numpy.float64'>'\n",
       "\twith 31412 stored elements in Compressed Sparse Row format>"
      ]
     },
     "execution_count": 23,
     "metadata": {},
     "output_type": "execute_result"
    }
   ],
   "source": [
    "bag_of_words_tv = tv.transform(features['content'].values.astype('U'))\n",
    "bag_of_words_tv"
   ]
  },
  {
   "cell_type": "code",
   "execution_count": 24,
   "metadata": {},
   "outputs": [
    {
     "data": {
      "text/html": [
       "<div>\n",
       "<style scoped>\n",
       "    .dataframe tbody tr th:only-of-type {\n",
       "        vertical-align: middle;\n",
       "    }\n",
       "\n",
       "    .dataframe tbody tr th {\n",
       "        vertical-align: top;\n",
       "    }\n",
       "\n",
       "    .dataframe thead th {\n",
       "        text-align: right;\n",
       "    }\n",
       "</style>\n",
       "<table border=\"1\" class=\"dataframe\">\n",
       "  <thead>\n",
       "    <tr style=\"text-align: right;\">\n",
       "      <th></th>\n",
       "      <th>TFIDF_ability</th>\n",
       "      <th>TFIDF_able</th>\n",
       "      <th>TFIDF_abrasion</th>\n",
       "      <th>TFIDF_absence</th>\n",
       "      <th>TFIDF_absolute</th>\n",
       "      <th>TFIDF_absolutely</th>\n",
       "      <th>TFIDF_absorb</th>\n",
       "      <th>TFIDF_absorbed</th>\n",
       "      <th>TFIDF_absorber</th>\n",
       "      <th>TFIDF_absurd</th>\n",
       "      <th>...</th>\n",
       "      <th>TFIDF_yep</th>\n",
       "      <th>TFIDF_yes</th>\n",
       "      <th>TFIDF_yesterday</th>\n",
       "      <th>TFIDF_yor</th>\n",
       "      <th>TFIDF_youbreakit</th>\n",
       "      <th>TFIDF_young</th>\n",
       "      <th>TFIDF_youtube</th>\n",
       "      <th>TFIDF_yr</th>\n",
       "      <th>TFIDF_zagg</th>\n",
       "      <th>TFIDF_zero</th>\n",
       "    </tr>\n",
       "  </thead>\n",
       "  <tbody>\n",
       "    <tr>\n",
       "      <th>0</th>\n",
       "      <td>0.0</td>\n",
       "      <td>0.0</td>\n",
       "      <td>0.0</td>\n",
       "      <td>0.0</td>\n",
       "      <td>0.0</td>\n",
       "      <td>0.0</td>\n",
       "      <td>0.0</td>\n",
       "      <td>0.0</td>\n",
       "      <td>0.0</td>\n",
       "      <td>0.0</td>\n",
       "      <td>...</td>\n",
       "      <td>0.0</td>\n",
       "      <td>0.0</td>\n",
       "      <td>0.000000</td>\n",
       "      <td>0.0</td>\n",
       "      <td>0.0</td>\n",
       "      <td>0.0</td>\n",
       "      <td>0.0</td>\n",
       "      <td>0.0</td>\n",
       "      <td>0.0</td>\n",
       "      <td>0.0</td>\n",
       "    </tr>\n",
       "    <tr>\n",
       "      <th>1</th>\n",
       "      <td>0.0</td>\n",
       "      <td>0.0</td>\n",
       "      <td>0.0</td>\n",
       "      <td>0.0</td>\n",
       "      <td>0.0</td>\n",
       "      <td>0.0</td>\n",
       "      <td>0.0</td>\n",
       "      <td>0.0</td>\n",
       "      <td>0.0</td>\n",
       "      <td>0.0</td>\n",
       "      <td>...</td>\n",
       "      <td>0.0</td>\n",
       "      <td>0.0</td>\n",
       "      <td>0.000000</td>\n",
       "      <td>0.0</td>\n",
       "      <td>0.0</td>\n",
       "      <td>0.0</td>\n",
       "      <td>0.0</td>\n",
       "      <td>0.0</td>\n",
       "      <td>0.0</td>\n",
       "      <td>0.0</td>\n",
       "    </tr>\n",
       "    <tr>\n",
       "      <th>2</th>\n",
       "      <td>0.0</td>\n",
       "      <td>0.0</td>\n",
       "      <td>0.0</td>\n",
       "      <td>0.0</td>\n",
       "      <td>0.0</td>\n",
       "      <td>0.0</td>\n",
       "      <td>0.0</td>\n",
       "      <td>0.0</td>\n",
       "      <td>0.0</td>\n",
       "      <td>0.0</td>\n",
       "      <td>...</td>\n",
       "      <td>0.0</td>\n",
       "      <td>0.0</td>\n",
       "      <td>0.473768</td>\n",
       "      <td>0.0</td>\n",
       "      <td>0.0</td>\n",
       "      <td>0.0</td>\n",
       "      <td>0.0</td>\n",
       "      <td>0.0</td>\n",
       "      <td>0.0</td>\n",
       "      <td>0.0</td>\n",
       "    </tr>\n",
       "    <tr>\n",
       "      <th>3</th>\n",
       "      <td>0.0</td>\n",
       "      <td>0.0</td>\n",
       "      <td>0.0</td>\n",
       "      <td>0.0</td>\n",
       "      <td>0.0</td>\n",
       "      <td>0.0</td>\n",
       "      <td>0.0</td>\n",
       "      <td>0.0</td>\n",
       "      <td>0.0</td>\n",
       "      <td>0.0</td>\n",
       "      <td>...</td>\n",
       "      <td>0.0</td>\n",
       "      <td>0.0</td>\n",
       "      <td>0.000000</td>\n",
       "      <td>0.0</td>\n",
       "      <td>0.0</td>\n",
       "      <td>0.0</td>\n",
       "      <td>0.0</td>\n",
       "      <td>0.0</td>\n",
       "      <td>0.0</td>\n",
       "      <td>0.0</td>\n",
       "    </tr>\n",
       "    <tr>\n",
       "      <th>4</th>\n",
       "      <td>0.0</td>\n",
       "      <td>0.0</td>\n",
       "      <td>0.0</td>\n",
       "      <td>0.0</td>\n",
       "      <td>0.0</td>\n",
       "      <td>0.0</td>\n",
       "      <td>0.0</td>\n",
       "      <td>0.0</td>\n",
       "      <td>0.0</td>\n",
       "      <td>0.0</td>\n",
       "      <td>...</td>\n",
       "      <td>0.0</td>\n",
       "      <td>0.0</td>\n",
       "      <td>0.000000</td>\n",
       "      <td>0.0</td>\n",
       "      <td>0.0</td>\n",
       "      <td>0.0</td>\n",
       "      <td>0.0</td>\n",
       "      <td>0.0</td>\n",
       "      <td>0.0</td>\n",
       "      <td>0.0</td>\n",
       "    </tr>\n",
       "  </tbody>\n",
       "</table>\n",
       "<p>5 rows × 3718 columns</p>\n",
       "</div>"
      ],
      "text/plain": [
       "   TFIDF_ability  TFIDF_able  TFIDF_abrasion  TFIDF_absence  TFIDF_absolute  \\\n",
       "0            0.0         0.0             0.0            0.0             0.0   \n",
       "1            0.0         0.0             0.0            0.0             0.0   \n",
       "2            0.0         0.0             0.0            0.0             0.0   \n",
       "3            0.0         0.0             0.0            0.0             0.0   \n",
       "4            0.0         0.0             0.0            0.0             0.0   \n",
       "\n",
       "   TFIDF_absolutely  TFIDF_absorb  TFIDF_absorbed  TFIDF_absorber  \\\n",
       "0               0.0           0.0             0.0             0.0   \n",
       "1               0.0           0.0             0.0             0.0   \n",
       "2               0.0           0.0             0.0             0.0   \n",
       "3               0.0           0.0             0.0             0.0   \n",
       "4               0.0           0.0             0.0             0.0   \n",
       "\n",
       "   TFIDF_absurd  ...  TFIDF_yep  TFIDF_yes  TFIDF_yesterday  TFIDF_yor  \\\n",
       "0           0.0  ...        0.0        0.0         0.000000        0.0   \n",
       "1           0.0  ...        0.0        0.0         0.000000        0.0   \n",
       "2           0.0  ...        0.0        0.0         0.473768        0.0   \n",
       "3           0.0  ...        0.0        0.0         0.000000        0.0   \n",
       "4           0.0  ...        0.0        0.0         0.000000        0.0   \n",
       "\n",
       "   TFIDF_youbreakit  TFIDF_young  TFIDF_youtube  TFIDF_yr  TFIDF_zagg  \\\n",
       "0               0.0          0.0            0.0       0.0         0.0   \n",
       "1               0.0          0.0            0.0       0.0         0.0   \n",
       "2               0.0          0.0            0.0       0.0         0.0   \n",
       "3               0.0          0.0            0.0       0.0         0.0   \n",
       "4               0.0          0.0            0.0       0.0         0.0   \n",
       "\n",
       "   TFIDF_zero  \n",
       "0         0.0  \n",
       "1         0.0  \n",
       "2         0.0  \n",
       "3         0.0  \n",
       "4         0.0  \n",
       "\n",
       "[5 rows x 3718 columns]"
      ]
     },
     "execution_count": 24,
     "metadata": {},
     "output_type": "execute_result"
    }
   ],
   "source": [
    "features_tv = pd.DataFrame(bag_of_words_tv.toarray(), columns=tv.get_feature_names()).add_prefix('TFIDF_')\n",
    "features_tv.head()"
   ]
  },
  {
   "cell_type": "code",
   "execution_count": 25,
   "metadata": {},
   "outputs": [
    {
     "data": {
      "text/plain": [
       "TFIDF_claimed     0.445143\n",
       "TFIDF_features    0.405392\n",
       "TFIDF_anti        0.342389\n",
       "TFIDF_month       0.313095\n",
       "TFIDF_proof       0.305080\n",
       "Name: 0, dtype: float64"
      ]
     },
     "execution_count": 25,
     "metadata": {},
     "output_type": "execute_result"
    }
   ],
   "source": [
    "features_tv.iloc[0].sort_values(ascending=False).head()"
   ]
  },
  {
   "cell_type": "markdown",
   "metadata": {},
   "source": [
    "### Với TF-IDF và N-grams"
   ]
  },
  {
   "cell_type": "code",
   "execution_count": 26,
   "metadata": {},
   "outputs": [
    {
     "data": {
      "text/plain": [
       "TfidfVectorizer(analyzer='word', binary=False, decode_error='strict',\n",
       "                dtype=<class 'numpy.float64'>, encoding='utf-8',\n",
       "                input='content', lowercase=True, max_df=1.0, max_features=None,\n",
       "                min_df=1, ngram_range=(1, 2), norm='l2', preprocessor=None,\n",
       "                smooth_idf=True, stop_words='english', strip_accents=None,\n",
       "                sublinear_tf=False, token_pattern='(?u)\\\\b\\\\w\\\\w+\\\\b',\n",
       "                tokenizer=None, use_idf=True, vocabulary=None)"
      ]
     },
     "execution_count": 26,
     "metadata": {},
     "output_type": "execute_result"
    }
   ],
   "source": [
    "tv_bi_gram = TfidfVectorizer(ngram_range = (1, 2), stop_words='english')\n",
    "tv_bi_gram.fit(features['content'].values.astype('U'))"
   ]
  },
  {
   "cell_type": "code",
   "execution_count": null,
   "metadata": {},
   "outputs": [],
   "source": [
    "# print(tv_bi_gram.get_feature_names())"
   ]
  },
  {
   "cell_type": "code",
   "execution_count": null,
   "metadata": {},
   "outputs": [],
   "source": [
    "# tv_bi_gram.vocabulary_"
   ]
  },
  {
   "cell_type": "code",
   "execution_count": 29,
   "metadata": {},
   "outputs": [
    {
     "data": {
      "text/plain": [
       "<1728x27911 sparse matrix of type '<class 'numpy.float64'>'\n",
       "\twith 64797 stored elements in Compressed Sparse Row format>"
      ]
     },
     "execution_count": 29,
     "metadata": {},
     "output_type": "execute_result"
    }
   ],
   "source": [
    "bag_of_words_tv_bi_gram = tv_bi_gram.transform(features['content'].values.astype('U'))\n",
    "bag_of_words_tv_bi_gram"
   ]
  },
  {
   "cell_type": "code",
   "execution_count": 30,
   "metadata": {},
   "outputs": [
    {
     "data": {
      "text/html": [
       "<div>\n",
       "<style scoped>\n",
       "    .dataframe tbody tr th:only-of-type {\n",
       "        vertical-align: middle;\n",
       "    }\n",
       "\n",
       "    .dataframe tbody tr th {\n",
       "        vertical-align: top;\n",
       "    }\n",
       "\n",
       "    .dataframe thead th {\n",
       "        text-align: right;\n",
       "    }\n",
       "</style>\n",
       "<table border=\"1\" class=\"dataframe\">\n",
       "  <thead>\n",
       "    <tr style=\"text-align: right;\">\n",
       "      <th></th>\n",
       "      <th>TV_Ngrams_ability</th>\n",
       "      <th>TV_Ngrams_ability screen</th>\n",
       "      <th>TV_Ngrams_able</th>\n",
       "      <th>TV_Ngrams_able accidentally</th>\n",
       "      <th>TV_Ngrams_able accurately</th>\n",
       "      <th>TV_Ngrams_able air</th>\n",
       "      <th>TV_Ngrams_able apply</th>\n",
       "      <th>TV_Ngrams_able compare</th>\n",
       "      <th>TV_Ngrams_able glass</th>\n",
       "      <th>TV_Ngrams_able hold</th>\n",
       "      <th>...</th>\n",
       "      <th>TV_Ngrams_zero</th>\n",
       "      <th>TV_Ngrams_zero anti</th>\n",
       "      <th>TV_Ngrams_zero bubbles</th>\n",
       "      <th>TV_Ngrams_zero comes</th>\n",
       "      <th>TV_Ngrams_zero dust</th>\n",
       "      <th>TV_Ngrams_zero room</th>\n",
       "      <th>TV_Ngrams_zero scratches</th>\n",
       "      <th>TV_Ngrams_zero shattered</th>\n",
       "      <th>TV_Ngrams_zero star</th>\n",
       "      <th>TV_Ngrams_zero stars</th>\n",
       "    </tr>\n",
       "  </thead>\n",
       "  <tbody>\n",
       "    <tr>\n",
       "      <th>0</th>\n",
       "      <td>0.0</td>\n",
       "      <td>0.0</td>\n",
       "      <td>0.0</td>\n",
       "      <td>0.0</td>\n",
       "      <td>0.0</td>\n",
       "      <td>0.0</td>\n",
       "      <td>0.0</td>\n",
       "      <td>0.0</td>\n",
       "      <td>0.0</td>\n",
       "      <td>0.0</td>\n",
       "      <td>...</td>\n",
       "      <td>0.0</td>\n",
       "      <td>0.0</td>\n",
       "      <td>0.0</td>\n",
       "      <td>0.0</td>\n",
       "      <td>0.0</td>\n",
       "      <td>0.0</td>\n",
       "      <td>0.0</td>\n",
       "      <td>0.0</td>\n",
       "      <td>0.0</td>\n",
       "      <td>0.0</td>\n",
       "    </tr>\n",
       "    <tr>\n",
       "      <th>1</th>\n",
       "      <td>0.0</td>\n",
       "      <td>0.0</td>\n",
       "      <td>0.0</td>\n",
       "      <td>0.0</td>\n",
       "      <td>0.0</td>\n",
       "      <td>0.0</td>\n",
       "      <td>0.0</td>\n",
       "      <td>0.0</td>\n",
       "      <td>0.0</td>\n",
       "      <td>0.0</td>\n",
       "      <td>...</td>\n",
       "      <td>0.0</td>\n",
       "      <td>0.0</td>\n",
       "      <td>0.0</td>\n",
       "      <td>0.0</td>\n",
       "      <td>0.0</td>\n",
       "      <td>0.0</td>\n",
       "      <td>0.0</td>\n",
       "      <td>0.0</td>\n",
       "      <td>0.0</td>\n",
       "      <td>0.0</td>\n",
       "    </tr>\n",
       "    <tr>\n",
       "      <th>2</th>\n",
       "      <td>0.0</td>\n",
       "      <td>0.0</td>\n",
       "      <td>0.0</td>\n",
       "      <td>0.0</td>\n",
       "      <td>0.0</td>\n",
       "      <td>0.0</td>\n",
       "      <td>0.0</td>\n",
       "      <td>0.0</td>\n",
       "      <td>0.0</td>\n",
       "      <td>0.0</td>\n",
       "      <td>...</td>\n",
       "      <td>0.0</td>\n",
       "      <td>0.0</td>\n",
       "      <td>0.0</td>\n",
       "      <td>0.0</td>\n",
       "      <td>0.0</td>\n",
       "      <td>0.0</td>\n",
       "      <td>0.0</td>\n",
       "      <td>0.0</td>\n",
       "      <td>0.0</td>\n",
       "      <td>0.0</td>\n",
       "    </tr>\n",
       "    <tr>\n",
       "      <th>3</th>\n",
       "      <td>0.0</td>\n",
       "      <td>0.0</td>\n",
       "      <td>0.0</td>\n",
       "      <td>0.0</td>\n",
       "      <td>0.0</td>\n",
       "      <td>0.0</td>\n",
       "      <td>0.0</td>\n",
       "      <td>0.0</td>\n",
       "      <td>0.0</td>\n",
       "      <td>0.0</td>\n",
       "      <td>...</td>\n",
       "      <td>0.0</td>\n",
       "      <td>0.0</td>\n",
       "      <td>0.0</td>\n",
       "      <td>0.0</td>\n",
       "      <td>0.0</td>\n",
       "      <td>0.0</td>\n",
       "      <td>0.0</td>\n",
       "      <td>0.0</td>\n",
       "      <td>0.0</td>\n",
       "      <td>0.0</td>\n",
       "    </tr>\n",
       "    <tr>\n",
       "      <th>4</th>\n",
       "      <td>0.0</td>\n",
       "      <td>0.0</td>\n",
       "      <td>0.0</td>\n",
       "      <td>0.0</td>\n",
       "      <td>0.0</td>\n",
       "      <td>0.0</td>\n",
       "      <td>0.0</td>\n",
       "      <td>0.0</td>\n",
       "      <td>0.0</td>\n",
       "      <td>0.0</td>\n",
       "      <td>...</td>\n",
       "      <td>0.0</td>\n",
       "      <td>0.0</td>\n",
       "      <td>0.0</td>\n",
       "      <td>0.0</td>\n",
       "      <td>0.0</td>\n",
       "      <td>0.0</td>\n",
       "      <td>0.0</td>\n",
       "      <td>0.0</td>\n",
       "      <td>0.0</td>\n",
       "      <td>0.0</td>\n",
       "    </tr>\n",
       "  </tbody>\n",
       "</table>\n",
       "<p>5 rows × 27911 columns</p>\n",
       "</div>"
      ],
      "text/plain": [
       "   TV_Ngrams_ability  TV_Ngrams_ability screen  TV_Ngrams_able  \\\n",
       "0                0.0                       0.0             0.0   \n",
       "1                0.0                       0.0             0.0   \n",
       "2                0.0                       0.0             0.0   \n",
       "3                0.0                       0.0             0.0   \n",
       "4                0.0                       0.0             0.0   \n",
       "\n",
       "   TV_Ngrams_able accidentally  TV_Ngrams_able accurately  TV_Ngrams_able air  \\\n",
       "0                          0.0                        0.0                 0.0   \n",
       "1                          0.0                        0.0                 0.0   \n",
       "2                          0.0                        0.0                 0.0   \n",
       "3                          0.0                        0.0                 0.0   \n",
       "4                          0.0                        0.0                 0.0   \n",
       "\n",
       "   TV_Ngrams_able apply  TV_Ngrams_able compare  TV_Ngrams_able glass  \\\n",
       "0                   0.0                     0.0                   0.0   \n",
       "1                   0.0                     0.0                   0.0   \n",
       "2                   0.0                     0.0                   0.0   \n",
       "3                   0.0                     0.0                   0.0   \n",
       "4                   0.0                     0.0                   0.0   \n",
       "\n",
       "   TV_Ngrams_able hold  ...  TV_Ngrams_zero  TV_Ngrams_zero anti  \\\n",
       "0                  0.0  ...             0.0                  0.0   \n",
       "1                  0.0  ...             0.0                  0.0   \n",
       "2                  0.0  ...             0.0                  0.0   \n",
       "3                  0.0  ...             0.0                  0.0   \n",
       "4                  0.0  ...             0.0                  0.0   \n",
       "\n",
       "   TV_Ngrams_zero bubbles  TV_Ngrams_zero comes  TV_Ngrams_zero dust  \\\n",
       "0                     0.0                   0.0                  0.0   \n",
       "1                     0.0                   0.0                  0.0   \n",
       "2                     0.0                   0.0                  0.0   \n",
       "3                     0.0                   0.0                  0.0   \n",
       "4                     0.0                   0.0                  0.0   \n",
       "\n",
       "   TV_Ngrams_zero room  TV_Ngrams_zero scratches  TV_Ngrams_zero shattered  \\\n",
       "0                  0.0                       0.0                       0.0   \n",
       "1                  0.0                       0.0                       0.0   \n",
       "2                  0.0                       0.0                       0.0   \n",
       "3                  0.0                       0.0                       0.0   \n",
       "4                  0.0                       0.0                       0.0   \n",
       "\n",
       "   TV_Ngrams_zero star  TV_Ngrams_zero stars  \n",
       "0                  0.0                   0.0  \n",
       "1                  0.0                   0.0  \n",
       "2                  0.0                   0.0  \n",
       "3                  0.0                   0.0  \n",
       "4                  0.0                   0.0  \n",
       "\n",
       "[5 rows x 27911 columns]"
      ]
     },
     "execution_count": 30,
     "metadata": {},
     "output_type": "execute_result"
    }
   ],
   "source": [
    "features_tv_bi_gram = pd.DataFrame(bag_of_words_tv_bi_gram.toarray(), columns=tv_bi_gram.get_feature_names()).add_prefix('TV_Ngrams_')\n",
    "features_tv_bi_gram.head()"
   ]
  },
  {
   "cell_type": "code",
   "execution_count": 31,
   "metadata": {},
   "outputs": [
    {
     "data": {
      "text/plain": [
       "TV_Ngrams_glare features     0.270214\n",
       "TV_Ngrams_claimed            0.270214\n",
       "TV_Ngrams_use anti           0.270214\n",
       "TV_Ngrams_claimed smudge     0.270214\n",
       "TV_Ngrams_install cracked    0.270214\n",
       "Name: 0, dtype: float64"
      ]
     },
     "execution_count": 31,
     "metadata": {},
     "output_type": "execute_result"
    }
   ],
   "source": [
    "features_tv_bi_gram.iloc[0].sort_values(ascending=False).head()"
   ]
  },
  {
   "cell_type": "code",
   "execution_count": 32,
   "metadata": {},
   "outputs": [
    {
     "data": {
      "text/plain": [
       "TV_Ngrams_screen              60.075059\n",
       "TV_Ngrams_protector           45.798609\n",
       "TV_Ngrams_ipad                41.230729\n",
       "TV_Ngrams_good                39.558653\n",
       "TV_Ngrams_screen protector    34.639696\n",
       "dtype: float64"
      ]
     },
     "execution_count": 32,
     "metadata": {},
     "output_type": "execute_result"
    }
   ],
   "source": [
    "tv_sums = features_tv_bi_gram.sum()\n",
    "tv_sums.sort_values(ascending=False).head()"
   ]
  },
  {
   "cell_type": "markdown",
   "metadata": {
    "colab_type": "text",
    "id": "DRHAyz8b7_0T"
   },
   "source": [
    "## Lựa chọn mô hình phù hợp"
   ]
  },
  {
   "cell_type": "code",
   "execution_count": 33,
   "metadata": {
    "colab": {},
    "colab_type": "code",
    "id": "GSxU5SpJna-R"
   },
   "outputs": [],
   "source": [
    "import time\n",
    "import warnings\n",
    "warnings.filterwarnings('ignore', category = FutureWarning)"
   ]
  },
  {
   "cell_type": "code",
   "execution_count": 34,
   "metadata": {
    "colab": {},
    "colab_type": "code",
    "id": "-oipOQVeF1Me"
   },
   "outputs": [],
   "source": [
    "# Tính độ chính xác theo: Logistic, Random Forest, SVM, MultinomialNB\n",
    "from sklearn.ensemble import RandomForestClassifier\n",
    "from sklearn.naive_bayes import MultinomialNB\n",
    "from sklearn.linear_model import LogisticRegression\n",
    "\n",
    "from sklearn.model_selection import cross_val_score\n",
    "models = [RandomForestClassifier(n_estimators = 200, max_depth = 3, random_state = 0),\n",
    "          MultinomialNB(), LogisticRegression(random_state = 0)]"
   ]
  },
  {
   "cell_type": "code",
   "execution_count": 35,
   "metadata": {
    "colab": {
     "base_uri": "https://localhost:8080/",
     "height": 87
    },
    "colab_type": "code",
    "id": "WiRF3cVyF1Du",
    "outputId": "38f7d8be-3d0a-49a5-b8c6-934d9d32e9ca"
   },
   "outputs": [
    {
     "name": "stdout",
     "output_type": "stream",
     "text": [
      "[0.76300578 0.80924855 0.80924855 0.8115942  0.79130435]\n",
      "[0.84682081 0.86416185 0.85549133 0.82898551 0.81449275]\n",
      "[0.84393064 0.83815029 0.83815029 0.82318841 0.80289855]\n"
     ]
    }
   ],
   "source": [
    "CV = 5\n",
    "cv_df = pd.DataFrame(index = range(CV * len(models)))\n",
    "entries = []\n",
    "                        \n",
    "for model in models:\n",
    "    model_name = model.__class__.__name__\n",
    "    \n",
    "    begin = time.time()\n",
    "    accuracies = cross_val_score(model, features_tv_bi_gram, np.ravel(targets), scoring = 'accuracy', cv = CV)\n",
    "    finish = time.time()\n",
    "    \n",
    "    print(accuracies)\n",
    "    entries.append([model_name, finish - begin, sum(accuracies) / len(accuracies)])"
   ]
  },
  {
   "cell_type": "code",
   "execution_count": 36,
   "metadata": {
    "colab": {
     "base_uri": "https://localhost:8080/",
     "height": 166
    },
    "colab_type": "code",
    "id": "2JlwDP-lkdP1",
    "outputId": "cf3bcbdb-bd06-4f53-8cb0-65c2c83b9f08"
   },
   "outputs": [
    {
     "data": {
      "text/html": [
       "<div>\n",
       "<style scoped>\n",
       "    .dataframe tbody tr th:only-of-type {\n",
       "        vertical-align: middle;\n",
       "    }\n",
       "\n",
       "    .dataframe tbody tr th {\n",
       "        vertical-align: top;\n",
       "    }\n",
       "\n",
       "    .dataframe thead th {\n",
       "        text-align: right;\n",
       "    }\n",
       "</style>\n",
       "<table border=\"1\" class=\"dataframe\">\n",
       "  <thead>\n",
       "    <tr style=\"text-align: right;\">\n",
       "      <th></th>\n",
       "      <th>model_name</th>\n",
       "      <th>time</th>\n",
       "      <th>accuracy</th>\n",
       "    </tr>\n",
       "  </thead>\n",
       "  <tbody>\n",
       "    <tr>\n",
       "      <th>0</th>\n",
       "      <td>RandomForestClassifier</td>\n",
       "      <td>5.595037</td>\n",
       "      <td>0.796880</td>\n",
       "    </tr>\n",
       "    <tr>\n",
       "      <th>1</th>\n",
       "      <td>MultinomialNB</td>\n",
       "      <td>1.853410</td>\n",
       "      <td>0.841990</td>\n",
       "    </tr>\n",
       "    <tr>\n",
       "      <th>2</th>\n",
       "      <td>LogisticRegression</td>\n",
       "      <td>7.179359</td>\n",
       "      <td>0.829264</td>\n",
       "    </tr>\n",
       "  </tbody>\n",
       "</table>\n",
       "</div>"
      ],
      "text/plain": [
       "               model_name      time  accuracy\n",
       "0  RandomForestClassifier  5.595037  0.796880\n",
       "1           MultinomialNB  1.853410  0.841990\n",
       "2      LogisticRegression  7.179359  0.829264"
      ]
     },
     "execution_count": 36,
     "metadata": {},
     "output_type": "execute_result"
    }
   ],
   "source": [
    "cv_df = pd.DataFrame(entries, columns = ['model_name', 'time', 'accuracy'])\n",
    "cv_df"
   ]
  },
  {
   "cell_type": "code",
   "execution_count": 44,
   "metadata": {
    "colab": {
     "base_uri": "https://localhost:8080/",
     "height": 296
    },
    "colab_type": "code",
    "id": "sKEJkoZFmJXF",
    "outputId": "0951aa3a-7718-4817-9e3a-c666cece76e0"
   },
   "outputs": [
    {
     "data": {
      "image/png": "[encoded data removed]",
      "text/plain": [
       "<Figure size 1440x504 with 2 Axes>"
      ]
     },
     "metadata": {
      "needs_background": "light"
     },
     "output_type": "display_data"
    }
   ],
   "source": [
    "fig = plt.figure(figsize=(20,7))\n",
    "\n",
    "plt.subplot(1, 2, 1)\n",
    "plt.bar(cv_df['model_name'], cv_df['accuracy'])\n",
    "plt.xlabel('model_name')\n",
    "plt.ylabel('accuracy')\n",
    "plt.xticks(rotation = 'horizontal')\n",
    "plt.title(\"Accuracies of Algorithms\")\n",
    "\n",
    "plt.subplot(1, 2, 2)\n",
    "plt.bar(cv_df['model_name'], cv_df['time'])\n",
    "plt.xlabel('model_name')\n",
    "plt.ylabel('time')\n",
    "plt.xticks(rotation = 'horizontal')\n",
    "plt.title(\"Time of Algorithms\")\n",
    "\n",
    "plt.show()"
   ]
  },
  {
   "cell_type": "markdown",
   "metadata": {
    "colab_type": "text",
    "id": "yrtFpH_x0jw5"
   },
   "source": [
    "## Áp dụng Grid SearchCV xác định các tham số tốt nhất cho mô hình"
   ]
  },
  {
   "cell_type": "code",
   "execution_count": 60,
   "metadata": {
    "colab": {},
    "colab_type": "code",
    "id": "-ELGRlCGDugd"
   },
   "outputs": [],
   "source": [
    "from sklearn.model_selection import GridSearchCV\n",
    "from scipy.stats import randint as sp_randint\n",
    "\n",
    "param_dist = {\n",
    "    'alpha': [1.0e-10,  1],\n",
    "    'fit_prior': [True, False],\n",
    "}"
   ]
  },
  {
   "cell_type": "code",
   "execution_count": 61,
   "metadata": {
    "colab": {},
    "colab_type": "code",
    "id": "XU6UVZS58zBF"
   },
   "outputs": [],
   "source": [
    "from sklearn.model_selection import train_test_split\n",
    "X_train, x_test, Y_train, y_test = train_test_split(features_tv_bi_gram, targets, test_size = 0.1)"
   ]
  },
  {
   "cell_type": "code",
   "execution_count": 62,
   "metadata": {
    "colab": {},
    "colab_type": "code",
    "id": "bGCVfeLwDuYV"
   },
   "outputs": [
    {
     "name": "stdout",
     "output_type": "stream",
     "text": [
      "Best Model Parameter:  {'alpha': 1, 'fit_prior': True}\n"
     ]
    }
   ],
   "source": [
    "model = GridSearchCV(estimator = MultinomialNB(), param_grid = param_dist, cv = 5)\n",
    "model.fit(X_train, np.ravel(Y_train))\n",
    "print(\"Best Model Parameter: \", model.best_params_)"
   ]
  },
  {
   "cell_type": "markdown",
   "metadata": {
    "colab_type": "text",
    "id": "SE4YohEV07Ix"
   },
   "source": [
    "## Xác thực chéo K-Folds để xác định bộ dữ liệu tốt nhất cho mô hình"
   ]
  },
  {
   "cell_type": "code",
   "execution_count": 63,
   "metadata": {
    "colab": {},
    "colab_type": "code",
    "id": "vGU_IDo6DvF7"
   },
   "outputs": [],
   "source": [
    "from sklearn.model_selection import KFold\n",
    "\n",
    "scores = []\n",
    "models = []\n",
    "test_data = []\n",
    "cv = KFold(n_splits = 10, random_state = 42, shuffle = False)"
   ]
  },
  {
   "cell_type": "code",
   "execution_count": null,
   "metadata": {},
   "outputs": [],
   "source": [
    "for train_index, test_index in cv.split(features):\n",
    "    # print(\"Train Index: \", train_index.tolist())\n",
    "    # print(\"Test Index: \", test_index.tolist(), \"\\n\")    \n",
    "\n",
    "    X_train, x_test, Y_train, y_test = features_tv_bi_gram.iloc[train_index.tolist()], features_tv_bi_gram.iloc[test_index.tolist()], np.ravel(targets.iloc[train_index.tolist()]), np.ravel(targets.iloc[test_index.tolist()])\n",
    "    test_data.append((x_test, y_test))\n",
    "    \n",
    "    model = MultinomialNB()\n",
    "    model.fit(X_train, Y_train)\n",
    "\n",
    "    scores.append(model.score(x_test, y_test))\n",
    "    models.append(model)"
   ]
  },
  {
   "cell_type": "code",
   "execution_count": 65,
   "metadata": {
    "colab": {
     "base_uri": "https://localhost:8080/",
     "height": 193
    },
    "colab_type": "code",
    "id": "IJSd80jeoGde",
    "outputId": "af129a85-7457-4cb2-ed5b-fcc97814ea06"
   },
   "outputs": [
    {
     "data": {
      "text/plain": [
       "[0.5317919075144508,\n",
       " 0.6358381502890174,\n",
       " 0.6069364161849711,\n",
       " 0.653179190751445,\n",
       " 0.6473988439306358,\n",
       " 0.6473988439306358,\n",
       " 0.653179190751445,\n",
       " 0.6820809248554913,\n",
       " 0.6046511627906976,\n",
       " 0.6104651162790697]"
      ]
     },
     "execution_count": 65,
     "metadata": {},
     "output_type": "execute_result"
    }
   ],
   "source": [
    "scores"
   ]
  },
  {
   "cell_type": "code",
   "execution_count": 66,
   "metadata": {
    "colab": {
     "base_uri": "https://localhost:8080/",
     "height": 34
    },
    "colab_type": "code",
    "id": "QKSOQM7foHoe",
    "outputId": "e1fccf25-93f5-49be-b98a-237e7f9df906"
   },
   "outputs": [
    {
     "data": {
      "text/plain": [
       "0.627291974727786"
      ]
     },
     "execution_count": 66,
     "metadata": {},
     "output_type": "execute_result"
    }
   ],
   "source": [
    "avg_scores = sum(scores) / len(scores)\n",
    "avg_scores"
   ]
  },
  {
   "cell_type": "code",
   "execution_count": 67,
   "metadata": {
    "colab": {
     "base_uri": "https://localhost:8080/",
     "height": 34
    },
    "colab_type": "code",
    "id": "KpiOdD6HoK1N",
    "outputId": "1870c80e-2f62-4d55-f516-bba2e9dd4beb"
   },
   "outputs": [
    {
     "data": {
      "text/plain": [
       "0.6820809248554913"
      ]
     },
     "execution_count": 67,
     "metadata": {},
     "output_type": "execute_result"
    }
   ],
   "source": [
    "max_scores = max(scores)\n",
    "max_scores"
   ]
  },
  {
   "cell_type": "code",
   "execution_count": 68,
   "metadata": {
    "colab": {
     "base_uri": "https://localhost:8080/",
     "height": 34
    },
    "colab_type": "code",
    "id": "Z-gvOyhPoN6F",
    "outputId": "ddbdf847-36eb-46bb-8f58-c6abe00897ef"
   },
   "outputs": [
    {
     "data": {
      "text/plain": [
       "7"
      ]
     },
     "execution_count": 68,
     "metadata": {},
     "output_type": "execute_result"
    }
   ],
   "source": [
    "vi_tri = -1\n",
    "\n",
    "for i in range(0, len(scores)):\n",
    "    if scores[i] == max_scores:\n",
    "        vi_tri = i\n",
    "        break\n",
    "vi_tri"
   ]
  },
  {
   "cell_type": "code",
   "execution_count": 70,
   "metadata": {
    "colab": {
     "base_uri": "https://localhost:8080/",
     "height": 34
    },
    "colab_type": "code",
    "id": "Nl2CpAMgoSyN",
    "outputId": "3392a449-774a-48c3-fd1f-8b838e73dc22"
   },
   "outputs": [
    {
     "data": {
      "text/plain": [
       "MultinomialNB(alpha=1.0, class_prior=None, fit_prior=True)"
      ]
     },
     "execution_count": 70,
     "metadata": {},
     "output_type": "execute_result"
    }
   ],
   "source": [
    "best_model = models[vi_tri]\n",
    "best_model"
   ]
  },
  {
   "cell_type": "code",
   "execution_count": 71,
   "metadata": {
    "colab": {
     "base_uri": "https://localhost:8080/",
     "height": 70
    },
    "colab_type": "code",
    "id": "V1v1kfV8cFtO",
    "outputId": "c834384d-cd41-4099-b90f-9faa86a64bf2"
   },
   "outputs": [
    {
     "name": "stdout",
     "output_type": "stream",
     "text": [
      "Accuracy: 62.729% (3.944%)\n"
     ]
    },
    {
     "data": {
      "text/plain": [
       "array([0.53179191, 0.63583815, 0.60693642, 0.65317919, 0.64739884,\n",
       "       0.64739884, 0.65317919, 0.68208092, 0.60465116, 0.61046512])"
      ]
     },
     "execution_count": 71,
     "metadata": {},
     "output_type": "execute_result"
    }
   ],
   "source": [
    "from sklearn import model_selection\n",
    "\n",
    "clf_k = MultinomialNB()\n",
    "kfold = KFold(n_splits = 10, random_state = 42, shuffle = False)\n",
    "results = model_selection.cross_val_score(clf_k, features_tv_bi_gram, np.ravel(targets), cv = kfold)\n",
    "\n",
    "print(\"Accuracy: %.3f%% (%.3f%%)\" % (results.mean() * 100.0, results.std() * 100.0))\n",
    "results"
   ]
  },
  {
   "cell_type": "markdown",
   "metadata": {
    "colab_type": "text",
    "id": "uHrhSdEfGOsW"
   },
   "source": [
    "# Part 4:  Dự đoán và kiểm tra độ chính xác"
   ]
  },
  {
   "cell_type": "code",
   "execution_count": 72,
   "metadata": {
    "colab": {
     "base_uri": "https://localhost:8080/",
     "height": 34
    },
    "colab_type": "code",
    "id": "PjF4g3pqWvAz",
    "outputId": "c5182800-6482-44f7-954a-c8784e3b63d2"
   },
   "outputs": [
    {
     "data": {
      "text/plain": [
       "array([1., 1., 1., 1., 1.])"
      ]
     },
     "execution_count": 72,
     "metadata": {},
     "output_type": "execute_result"
    }
   ],
   "source": [
    "x_test = test_data[vi_tri][0]\n",
    "y_test = test_data[vi_tri][1]\n",
    "y_test[:5]"
   ]
  },
  {
   "cell_type": "code",
   "execution_count": 73,
   "metadata": {
    "colab": {
     "base_uri": "https://localhost:8080/",
     "height": 34
    },
    "colab_type": "code",
    "id": "QdOvKAaHujKM",
    "outputId": "ca5111dc-aa27-48df-e360-3d2b606cd4ea"
   },
   "outputs": [
    {
     "name": "stdout",
     "output_type": "stream",
     "text": [
      "The prediction accuracy is: 68.20809248554913 %\n"
     ]
    }
   ],
   "source": [
    "print('The prediction accuracy is:', best_model.score(x_test, y_test) * 100, '%')"
   ]
  },
  {
   "cell_type": "code",
   "execution_count": 74,
   "metadata": {
    "colab": {
     "base_uri": "https://localhost:8080/",
     "height": 34
    },
    "colab_type": "code",
    "id": "wVt45wQbElcw",
    "outputId": "f4db32f5-11f7-4eef-e392-7be7032189f4"
   },
   "outputs": [
    {
     "data": {
      "text/plain": [
       "array([1., 0., 1., 1., 1.])"
      ]
     },
     "execution_count": 74,
     "metadata": {},
     "output_type": "execute_result"
    }
   ],
   "source": [
    "y_pred = best_model.predict(x_test)\n",
    "y_pred[:5]"
   ]
  },
  {
   "cell_type": "code",
   "execution_count": 75,
   "metadata": {
    "colab": {
     "base_uri": "https://localhost:8080/",
     "height": 34
    },
    "colab_type": "code",
    "id": "9TeBQYR1tPcL",
    "outputId": "9e747364-a023-45ef-acea-1522cccb4694"
   },
   "outputs": [
    {
     "name": "stdout",
     "output_type": "stream",
     "text": [
      "Accuracy is 68.20809248554913 %\n"
     ]
    }
   ],
   "source": [
    "from sklearn.metrics import accuracy_score\n",
    "print('Accuracy is', accuracy_score(y_test, y_pred) * 100, '%')"
   ]
  },
  {
   "cell_type": "code",
   "execution_count": 76,
   "metadata": {
    "colab": {
     "base_uri": "https://localhost:8080/",
     "height": 195
    },
    "colab_type": "code",
    "id": "jq6R3Ddtvq6Y",
    "outputId": "2c9c57c1-3bba-4810-ce08-7b3c4edeae02"
   },
   "outputs": [
    {
     "data": {
      "text/html": [
       "<div>\n",
       "<style scoped>\n",
       "    .dataframe tbody tr th:only-of-type {\n",
       "        vertical-align: middle;\n",
       "    }\n",
       "\n",
       "    .dataframe tbody tr th {\n",
       "        vertical-align: top;\n",
       "    }\n",
       "\n",
       "    .dataframe thead th {\n",
       "        text-align: right;\n",
       "    }\n",
       "</style>\n",
       "<table border=\"1\" class=\"dataframe\">\n",
       "  <thead>\n",
       "    <tr style=\"text-align: right;\">\n",
       "      <th></th>\n",
       "      <th>Actual</th>\n",
       "      <th>Prediction</th>\n",
       "    </tr>\n",
       "  </thead>\n",
       "  <tbody>\n",
       "    <tr>\n",
       "      <th>0</th>\n",
       "      <td>1.0</td>\n",
       "      <td>1.0</td>\n",
       "    </tr>\n",
       "    <tr>\n",
       "      <th>1</th>\n",
       "      <td>1.0</td>\n",
       "      <td>0.0</td>\n",
       "    </tr>\n",
       "    <tr>\n",
       "      <th>2</th>\n",
       "      <td>1.0</td>\n",
       "      <td>1.0</td>\n",
       "    </tr>\n",
       "    <tr>\n",
       "      <th>3</th>\n",
       "      <td>1.0</td>\n",
       "      <td>1.0</td>\n",
       "    </tr>\n",
       "    <tr>\n",
       "      <th>4</th>\n",
       "      <td>1.0</td>\n",
       "      <td>1.0</td>\n",
       "    </tr>\n",
       "  </tbody>\n",
       "</table>\n",
       "</div>"
      ],
      "text/plain": [
       "   Actual  Prediction\n",
       "0     1.0         1.0\n",
       "1     1.0         0.0\n",
       "2     1.0         1.0\n",
       "3     1.0         1.0\n",
       "4     1.0         1.0"
      ]
     },
     "execution_count": 76,
     "metadata": {},
     "output_type": "execute_result"
    }
   ],
   "source": [
    "df = pd.DataFrame({'Actual': y_test, 'Prediction': y_pred})  \n",
    "df.head()"
   ]
  },
  {
   "cell_type": "code",
   "execution_count": 79,
   "metadata": {
    "colab": {
     "base_uri": "https://localhost:8080/",
     "height": 34
    },
    "colab_type": "code",
    "id": "7G0NST-rEtev",
    "outputId": "c769905a-89e0-43bf-c650-a647b2d381a7"
   },
   "outputs": [
    {
     "data": {
      "text/plain": [
       "array([1., 0.])"
      ]
     },
     "execution_count": 79,
     "metadata": {},
     "output_type": "execute_result"
    }
   ],
   "source": [
    "X_now = tv_bi_gram.transform(np.array(['good', 'bad']))\n",
    "Y_now = best_model.predict(X_now)\n",
    "Y_now"
   ]
  },
  {
   "cell_type": "markdown",
   "metadata": {
    "colab_type": "text",
    "id": "NQiiN2oaw8jh"
   },
   "source": [
    "## Export model"
   ]
  },
  {
   "cell_type": "code",
   "execution_count": 80,
   "metadata": {
    "colab": {},
    "colab_type": "code",
    "id": "lS48k9lbw_lW"
   },
   "outputs": [],
   "source": [
    "import pickle\n",
    "# Save to file in the current working directory\n",
    "pkl_filename = \"pickle_model.pkl\"\n",
    "\n",
    "with open(pkl_filename, 'wb') as file:  \n",
    "    pickle.dump(model, file)"
   ]
  },
  {
   "cell_type": "code",
   "execution_count": 81,
   "metadata": {
    "colab": {},
    "colab_type": "code",
    "id": "fD9CvFxcxAm4"
   },
   "outputs": [],
   "source": [
    "with open(pkl_filename, 'rb') as file:  \n",
    "    pickle_model = pickle.load(file)"
   ]
  },
  {
   "cell_type": "code",
   "execution_count": 83,
   "metadata": {
    "colab": {
     "base_uri": "https://localhost:8080/",
     "height": 34
    },
    "colab_type": "code",
    "id": "XopQ5JO9xIMW",
    "outputId": "9e91883f-bcd5-4f2b-9bd2-fb012f64b7bb"
   },
   "outputs": [
    {
     "data": {
      "text/plain": [
       "array([1., 0.])"
      ]
     },
     "execution_count": 83,
     "metadata": {},
     "output_type": "execute_result"
    }
   ],
   "source": [
    "X_now = tv_bi_gram.transform(np.array(['nice', 'waste money']))\n",
    "Y_now = pickle_model.predict(X_now)\n",
    "Y_now"
   ]
  }
 ],
 "metadata": {
  "colab": {
   "collapsed_sections": [
    "ZHkP2_rjFzL_",
    "GlMbrsLrEbth",
    "fUWQvIisy4RT",
    "caKTTMooQVpF",
    "STwlDfouzV67",
    "d9eGP4bnCcia",
    "DRHAyz8b7_0T",
    "SE4YohEV07Ix",
    "sC9K-qw9wxsv",
    "81OhNYGPFdAJ"
   ],
   "name": "Exercise6_SpamOrHam.ipynb",
   "provenance": []
  },
  "kernelspec": {
   "display_name": "Python 3",
   "language": "python",
   "name": "python3"
  },
  "language_info": {
   "codemirror_mode": {
    "name": "ipython",
    "version": 3
   },
   "file_extension": ".py",
   "mimetype": "text/x-python",
   "name": "python",
   "nbconvert_exporter": "python",
   "pygments_lexer": "ipython3",
   "version": "3.7.5"
  }
 },
 "nbformat": 4,
 "nbformat_minor": 1
}
